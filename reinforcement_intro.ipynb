{
 "cells": [
  {
   "cell_type": "markdown",
   "metadata": {},
   "source": [
    "# Please install the following python libraries\n",
    "- python3: https://www.python.org/\n",
    "- numpy: https://numpy.org/install/\n",
    "- tqdm: https://github.com/tqdm/tqdm#installation\n",
    "- matplotlib: https://matplotlib.org/stable/users/installing/index.html"
   ]
  },
  {
   "cell_type": "code",
   "execution_count": 1,
   "metadata": {},
   "outputs": [],
   "source": [
    "import random\n",
    "import numpy as np\n",
    "import tqdm.notebook as tqdm\n",
    "import matplotlib.pyplot as plt"
   ]
  },
  {
   "cell_type": "markdown",
   "metadata": {},
   "source": [
    "# 1: Complete the Implementation of the Four Rooms environment \n",
    "\n",
    "- The FourRooms is implemented as a python class. We explain the attributes and methods as follows\n",
    "    - **init** function: Define all the attributes of the Four Rooms environment. For example, the state space, the action space, the start state, the goal state and so on.\n",
    "    - **reset** function: Resets the agent to the start state (0, 0)\n",
    "    - **step** function: Takes the current state and one action, returns the next state and a reward\n",
    "   \n",
    "- Please complete the implementation in the step function."
   ]
  },
  {
   "cell_type": "code",
   "execution_count": 2,
   "metadata": {},
   "outputs": [],
   "source": [
    "# FOUR ROOM ENVIRONMENT\n",
    "class FourRooms(object):\n",
    "    def __init__(self):\n",
    "        # define the four room as a 2-D array for easy state space reference and visualization\n",
    "        # 0 represents an empty cell; 1 represents a wall cell\n",
    "        self.four_room_space = np.array([[0, 0, 0, 0, 0, 1, 0, 0, 0, 0, 0],\n",
    "                                         [0, 0, 0, 0, 0, 1, 0, 0, 0, 0, 0],\n",
    "                                         [0, 0, 0, 0, 0, 0, 0, 0, 0, 0, 0],\n",
    "                                         [0, 0, 0, 0, 0, 1, 0, 0, 0, 0, 0],\n",
    "                                         [0, 0, 0, 0, 0, 1, 0, 0, 0, 0, 0],\n",
    "                                         [1, 0, 1, 1, 1, 1, 0, 0, 0, 0, 0],\n",
    "                                         [0, 0, 0, 0, 0, 1, 1, 1, 0, 1, 1],\n",
    "                                         [0, 0, 0, 0, 0, 1, 0, 0, 0, 0, 0],\n",
    "                                         [0, 0, 0, 0, 0, 1, 0, 0, 0, 0, 0],\n",
    "                                         [0, 0, 0, 0, 0, 0, 0, 0, 0, 0, 0],\n",
    "                                         [0, 0, 0, 0, 0, 1, 0, 0, 0, 0, 0]])\n",
    "        \n",
    "        # find the positions for all empty cells\n",
    "        # not that: the origin for a 2-D numpy array is located at top-left while the origin for the FourRooms is at\n",
    "        # the bottom-left. The following codes performs the re-projection.\n",
    "        empty_cells = np.where(self.four_room_space == 0.0)\n",
    "        self.state_space = np.array([[col, 10 - row] for row, col in zip(empty_cells[0], empty_cells[1])])\n",
    "\n",
    "        # define the action space\n",
    "        self.action_space = {'LEFT': np.array([-1, 0]),\n",
    "                             'RIGHT': np.array([1, 0]),\n",
    "                             'DOWN': np.array([0, -1]),\n",
    "                             'UP': np.array([0, 1])}\n",
    "        \n",
    "        # define the start state\n",
    "        self.start_state = [0, 0]\n",
    "        \n",
    "        # define the goal state\n",
    "        self.goal_state = [10, 10]\n",
    "        \n",
    "\n",
    "    def reset(self):\n",
    "        \"\"\"\n",
    "        Reset the agent's state to the start state [0, 0]\n",
    "        Return both the start state and reward\n",
    "        \"\"\"\n",
    "        state = self.start_state  # reset the agent to [0, 0]\n",
    "        reward = 0  # reward is 0\n",
    "        return state, reward\n",
    "        \n",
    "\n",
    "    def step(self, state, act):\n",
    "        \"\"\"\n",
    "        Args: \n",
    "            state: a list variable containing x, y integer coordinates. (i.e., [1, 1]).\n",
    "            act: a string variable (i.e., \"UP\"). All feasible values are [\"UP\", \"DOWN\", \"LEFT\", \"RIGHT\"].\n",
    "        Output args: \n",
    "            next_state: a list variable containing x, y integer coordinates (i.e., [1, 1])\n",
    "            reward: an integer. it can be either 0 or 1.\n",
    "        \"\"\"\n",
    "        \n",
    "        # CODE HERE: implement the stochastic dynamics as described in Q1. \n",
    "        # Please note, we provide you with the deterministic transition function \"take_action\" below.\n",
    "        # Therefore, you only have to implement the logics of the stochasticity.\n",
    "        if act == \"UP\":\n",
    "            act = np.random.choice([\"UP\", \"LEFT\", \"RIGHT\"], p=[0.8, 0.1, 0.1])\n",
    "        elif act == \"DOWN\":\n",
    "            act = np.random.choice([\"DOWN\", \"LEFT\", \"RIGHT\"], p=[0.8, 0.1, 0.1])\n",
    "        elif act == \"LEFT\":\n",
    "            act = np.random.choice([\"LEFT\", \"UP\", \"DOWN\"], p=[0.8, 0.1, 0.1])\n",
    "        else:\n",
    "            act = np.random.choice([\"RIGHT\", \"UP\", \"DOWN\"], p=[0.8, 0.1, 0.1])        \n",
    "        next_state = state + self.action_space[act]\n",
    "        check = np.any(np.all(self.state_space == next_state, axis=1))\n",
    "        if check == False:\n",
    "            next_state = state\n",
    "        # CODE HERE: compute the reward based on the resulting state\n",
    "        for i in next_state:\n",
    "            if i == 10:\n",
    "                reward = 1\n",
    "            else:\n",
    "                reward = 0\n",
    "            \n",
    "        # return the current state, reward\n",
    "        return next_state, reward\n",
    "        \n",
    "\n",
    "    \"\"\" DO NOT CHANGE BELOW \"\"\"\n",
    "    def take_action(self, state, act):\n",
    "        \"\"\"\n",
    "        Input args: \n",
    "            state (list): a list variable containing x, y integer coordinates. (i.e., [1, 1]).\n",
    "            act (string): a string variable (i.e., \"UP\"). All feasible values are [\"UP\", \"DOWN\", \"LEFT\", \"RIGHT\"].\n",
    "        Output args: \n",
    "            next_state (list): a list variable containing x, y integer coordinates (i.e., [1, 1])\n",
    "        \"\"\"\n",
    "        state = np.array(state)\n",
    "        next_state = state + self.action_space[act]\n",
    "        return next_state.tolist() if next_state.tolist() in self.state_space else state.tolist()"
   ]
  },
  {
   "cell_type": "code",
   "execution_count": 3,
   "metadata": {},
   "outputs": [],
   "source": [
    "\"\"\"Here is the plot function you can use to generate the figure. DO NOT CHANGE\"\"\"\n",
    "# PLOT FUNCTION\n",
    "def plot_func(res_list):\n",
    "    # set the figure size\n",
    "    plt.figure(figsize=(8, 6))\n",
    "    \n",
    "    # plot each trial\n",
    "    for re in res_list:\n",
    "        plt.plot(list(range(len(res_list[0]))), re, linestyle=\"--\", linewidth=1, alpha=0.7)\n",
    "\n",
    "    # plot mean reward\n",
    "    mean_reward = np.array(res_list).mean(axis=0).tolist()\n",
    "    plt.plot(list(range(len(res_list[0]))), mean_reward, linestyle=\"-\", linewidth=2, color=\"k\")\n",
    "\n",
    "    # plot the figure\n",
    "    plt.ylabel(\"Cumulative reward\")\n",
    "    plt.xlabel(\"Time step\")\n",
    "    plt.show()"
   ]
  },
  {
   "cell_type": "markdown",
   "metadata": {},
   "source": [
    "# 2 Implement the manual policy\n",
    "\n",
    "Use this to check your whether your implementation of the step function is correct."
   ]
  },
  {
   "cell_type": "code",
   "execution_count": 4,
   "metadata": {},
   "outputs": [
    {
     "name": "stdout",
     "output_type": "stream",
     "text": [
      "DO YOU WANT TO IMPLEMENT A MANUAL POLICY ??? no\n"
     ]
    }
   ],
   "source": [
    "if __name__ == \"__main__\":\n",
    "    IN = input('DO YOU WANT TO IMPLEMENT A MANUAL POLICY ??? ')\n",
    "    if IN == 'y':\n",
    "        # fix the randomness for reproduction\n",
    "        random.seed(1234)\n",
    "        np.random.seed(1234)\n",
    "\n",
    "        # create the environment\n",
    "        env = FourRooms()\n",
    "        state, reward = env.reset()  # always call reset() before interaction\n",
    "\n",
    "        # manual time step (YOU CAN CHANGE THIS TO ANY TIME STEP YOU WANT)\n",
    "        time_step = 100\n",
    "\n",
    "        # create a loop\n",
    "        for t in range(time_step):\n",
    "\n",
    "            # CODE HERE: implement your manual agent/policy function that takes in the action from the standard input\n",
    "            act = str(input(\"Enter an action: \"))\n",
    "            next_state, reward = env.step(state, act)\n",
    "            # CODE HERE: implement the code to interact with the Four Rooms environment above.\n",
    "            # it should takes in the current state and action and returns the next_state and a reward\n",
    "            # Hint: use the step function that you implement.\n",
    "            action = act\n",
    "            \"\"\"DO NOT CHANGE BELOW\"\"\"\n",
    "            # print interaction\n",
    "            print(f\"Step = {t}, state = {state}, action = {action}, next state = {next_state}, reward = {reward}\")\n",
    "\n",
    "            # reset if the agent reaches the goal\n",
    "            if reward == 1:\n",
    "                print(\"Reset the agent to the start state!\")\n",
    "                state, reward = env.reset()\n",
    "            else:\n",
    "                state = next_state\n",
    "    else:\n",
    "        pass"
   ]
  },
  {
   "cell_type": "markdown",
   "metadata": {},
   "source": [
    "# 3 Implement a random policy\n",
    "\n",
    "We provide the scaffolding code for running and plotting. Please implement a random policy\n",
    "\n",
    "**Please note: you should read the code carefully before implementing to make sure the variable names are aligned.**"
   ]
  },
  {
   "cell_type": "code",
   "execution_count": 5,
   "metadata": {
    "scrolled": false
   },
   "outputs": [
    {
     "data": {
      "application/json": {
       "ascii": false,
       "bar_format": null,
       "colour": null,
       "elapsed": 0.014045000076293945,
       "initial": 0,
       "n": 0,
       "ncols": null,
       "nrows": null,
       "postfix": null,
       "prefix": "Run trail",
       "rate": null,
       "total": 10,
       "unit": "it",
       "unit_divisor": 1000,
       "unit_scale": false
      },
      "application/vnd.jupyter.widget-view+json": {
       "model_id": "d4ae8fb872394a1c991246e50620b996",
       "version_major": 2,
       "version_minor": 0
      },
      "text/plain": [
       "Run trail:   0%|          | 0/10 [00:00<?, ?it/s]"
      ]
     },
     "metadata": {},
     "output_type": "display_data"
    },
    {
     "data": {
      "application/json": {
       "ascii": false,
       "bar_format": null,
       "colour": null,
       "elapsed": 0.012903213500976562,
       "initial": 0,
       "n": 0,
       "ncols": null,
       "nrows": null,
       "postfix": null,
       "prefix": "Episode",
       "rate": null,
       "total": 10000,
       "unit": "it",
       "unit_divisor": 1000,
       "unit_scale": false
      },
      "application/vnd.jupyter.widget-view+json": {
       "model_id": "6fb3aeae444b41dfacb1129cb649b374",
       "version_major": 2,
       "version_minor": 0
      },
      "text/plain": [
       "Episode:   0%|          | 0/10000 [00:00<?, ?it/s]"
      ]
     },
     "metadata": {},
     "output_type": "display_data"
    },
    {
     "data": {
      "application/json": {
       "ascii": false,
       "bar_format": null,
       "colour": null,
       "elapsed": 0.011963367462158203,
       "initial": 0,
       "n": 0,
       "ncols": null,
       "nrows": null,
       "postfix": null,
       "prefix": "Episode",
       "rate": null,
       "total": 10000,
       "unit": "it",
       "unit_divisor": 1000,
       "unit_scale": false
      },
      "application/vnd.jupyter.widget-view+json": {
       "model_id": "6daa0bd843094cdfa97220e5b3872198",
       "version_major": 2,
       "version_minor": 0
      },
      "text/plain": [
       "Episode:   0%|          | 0/10000 [00:00<?, ?it/s]"
      ]
     },
     "metadata": {},
     "output_type": "display_data"
    },
    {
     "data": {
      "application/json": {
       "ascii": false,
       "bar_format": null,
       "colour": null,
       "elapsed": 0.010086297988891602,
       "initial": 0,
       "n": 0,
       "ncols": null,
       "nrows": null,
       "postfix": null,
       "prefix": "Episode",
       "rate": null,
       "total": 10000,
       "unit": "it",
       "unit_divisor": 1000,
       "unit_scale": false
      },
      "application/vnd.jupyter.widget-view+json": {
       "model_id": "01842f481b98481489cc1aa2db043422",
       "version_major": 2,
       "version_minor": 0
      },
      "text/plain": [
       "Episode:   0%|          | 0/10000 [00:00<?, ?it/s]"
      ]
     },
     "metadata": {},
     "output_type": "display_data"
    },
    {
     "data": {
      "application/json": {
       "ascii": false,
       "bar_format": null,
       "colour": null,
       "elapsed": 0.011955499649047852,
       "initial": 0,
       "n": 0,
       "ncols": null,
       "nrows": null,
       "postfix": null,
       "prefix": "Episode",
       "rate": null,
       "total": 10000,
       "unit": "it",
       "unit_divisor": 1000,
       "unit_scale": false
      },
      "application/vnd.jupyter.widget-view+json": {
       "model_id": "725a4219ace244aaa84616fc03c434d4",
       "version_major": 2,
       "version_minor": 0
      },
      "text/plain": [
       "Episode:   0%|          | 0/10000 [00:00<?, ?it/s]"
      ]
     },
     "metadata": {},
     "output_type": "display_data"
    },
    {
     "data": {
      "application/json": {
       "ascii": false,
       "bar_format": null,
       "colour": null,
       "elapsed": 0.010964393615722656,
       "initial": 0,
       "n": 0,
       "ncols": null,
       "nrows": null,
       "postfix": null,
       "prefix": "Episode",
       "rate": null,
       "total": 10000,
       "unit": "it",
       "unit_divisor": 1000,
       "unit_scale": false
      },
      "application/vnd.jupyter.widget-view+json": {
       "model_id": "70faed9c9e584b61ac5be46dcf42b4f9",
       "version_major": 2,
       "version_minor": 0
      },
      "text/plain": [
       "Episode:   0%|          | 0/10000 [00:00<?, ?it/s]"
      ]
     },
     "metadata": {},
     "output_type": "display_data"
    },
    {
     "data": {
      "application/json": {
       "ascii": false,
       "bar_format": null,
       "colour": null,
       "elapsed": 0.010967254638671875,
       "initial": 0,
       "n": 0,
       "ncols": null,
       "nrows": null,
       "postfix": null,
       "prefix": "Episode",
       "rate": null,
       "total": 10000,
       "unit": "it",
       "unit_divisor": 1000,
       "unit_scale": false
      },
      "application/vnd.jupyter.widget-view+json": {
       "model_id": "054d743719ff47d599d06148b7ad38c6",
       "version_major": 2,
       "version_minor": 0
      },
      "text/plain": [
       "Episode:   0%|          | 0/10000 [00:00<?, ?it/s]"
      ]
     },
     "metadata": {},
     "output_type": "display_data"
    },
    {
     "data": {
      "application/json": {
       "ascii": false,
       "bar_format": null,
       "colour": null,
       "elapsed": 0.010962963104248047,
       "initial": 0,
       "n": 0,
       "ncols": null,
       "nrows": null,
       "postfix": null,
       "prefix": "Episode",
       "rate": null,
       "total": 10000,
       "unit": "it",
       "unit_divisor": 1000,
       "unit_scale": false
      },
      "application/vnd.jupyter.widget-view+json": {
       "model_id": "4de453e3cdb24ca2b9d5758a9f9db099",
       "version_major": 2,
       "version_minor": 0
      },
      "text/plain": [
       "Episode:   0%|          | 0/10000 [00:00<?, ?it/s]"
      ]
     },
     "metadata": {},
     "output_type": "display_data"
    },
    {
     "data": {
      "application/json": {
       "ascii": false,
       "bar_format": null,
       "colour": null,
       "elapsed": 0.009966611862182617,
       "initial": 0,
       "n": 0,
       "ncols": null,
       "nrows": null,
       "postfix": null,
       "prefix": "Episode",
       "rate": null,
       "total": 10000,
       "unit": "it",
       "unit_divisor": 1000,
       "unit_scale": false
      },
      "application/vnd.jupyter.widget-view+json": {
       "model_id": "e21beda632d54db3a11f9e225a8b8f13",
       "version_major": 2,
       "version_minor": 0
      },
      "text/plain": [
       "Episode:   0%|          | 0/10000 [00:00<?, ?it/s]"
      ]
     },
     "metadata": {},
     "output_type": "display_data"
    },
    {
     "data": {
      "application/json": {
       "ascii": false,
       "bar_format": null,
       "colour": null,
       "elapsed": 0.010959625244140625,
       "initial": 0,
       "n": 0,
       "ncols": null,
       "nrows": null,
       "postfix": null,
       "prefix": "Episode",
       "rate": null,
       "total": 10000,
       "unit": "it",
       "unit_divisor": 1000,
       "unit_scale": false
      },
      "application/vnd.jupyter.widget-view+json": {
       "model_id": "3f9c75af06ea428b9a2bb4d78b7ec691",
       "version_major": 2,
       "version_minor": 0
      },
      "text/plain": [
       "Episode:   0%|          | 0/10000 [00:00<?, ?it/s]"
      ]
     },
     "metadata": {},
     "output_type": "display_data"
    },
    {
     "data": {
      "application/json": {
       "ascii": false,
       "bar_format": null,
       "colour": null,
       "elapsed": 0.013117790222167969,
       "initial": 0,
       "n": 0,
       "ncols": null,
       "nrows": null,
       "postfix": null,
       "prefix": "Episode",
       "rate": null,
       "total": 10000,
       "unit": "it",
       "unit_divisor": 1000,
       "unit_scale": false
      },
      "application/vnd.jupyter.widget-view+json": {
       "model_id": "fc7e30b8b94d4e0280ac66d3f4b23ee2",
       "version_major": 2,
       "version_minor": 0
      },
      "text/plain": [
       "Episode:   0%|          | 0/10000 [00:00<?, ?it/s]"
      ]
     },
     "metadata": {},
     "output_type": "display_data"
    },
    {
     "data": {
      "image/png": "[encoded data removed]",
      "text/plain": [
       "<Figure size 576x432 with 1 Axes>"
      ]
     },
     "metadata": {
      "needs_background": "light"
     },
     "output_type": "display_data"
    }
   ],
   "source": [
    "if __name__ == \"__main__\":\n",
    "    # fix the randomness for reproduction\n",
    "    random.seed(1234)\n",
    "    np.random.seed(1234)\n",
    "    \n",
    "    # create the environment\n",
    "    env = FourRooms()\n",
    "\n",
    "    # number of the trail (YOU CAN MODIFIED HERE WITH SMALL VALUES FOR DEBUG ONLY)\n",
    "    trial_num = 10   \n",
    "    # length of each trail (YOU CAN MODIFIED HERE WITH SMALL VALUES FOR DEBUG ONLY)\n",
    "    trial_length = int(1e4)\n",
    "    \n",
    "    # save the rewards for plot\n",
    "    rewards_list1 = []\n",
    "    \n",
    "    # run experiment\n",
    "    for e in tqdm.tqdm(range(trial_num), desc=\"Run trail\", position=0):\n",
    "        \n",
    "        # reset for every trail\n",
    "        reward_per_trial = []\n",
    "        reward_counter = 0\n",
    "    \n",
    "        # reset the environment \n",
    "        state, reward = env.reset()\n",
    "        \n",
    "        # run each trial\n",
    "        for t in tqdm.tqdm(range(trial_length), desc=\"Episode\", position=1, leave=False):\n",
    "            \n",
    "            \n",
    "            # CODE HERE: please implement a random policy to obtain an action.\n",
    "            # it should return a random action from [\"UP\", \"DOWN\", \"LEFT\", \"RIGHT\"]\n",
    "            action = np.random.choice([\"UP\", \"DOWN\", \"LEFT\", \"RIGHT\"])\n",
    "                       \n",
    "            # CODE HERE: please implement the code to get the next state and reward\n",
    "            # it should takes in the current state and action\n",
    "            # it should returns the next_state and reward\n",
    "            next_state, reward =  env.step(state, action)\n",
    "            \n",
    "            \n",
    "            \"\"\"DO NOT CHANGE BELOW\"\"\"\n",
    "            # save the reward\n",
    "            reward_counter += reward\n",
    "            reward_per_trial.append(reward_counter)\n",
    "            \n",
    "            # reset\n",
    "            if reward == 1:\n",
    "                state, reward = env.reset()\n",
    "            else:\n",
    "                state = next_state\n",
    "\n",
    "        # save the rewards\n",
    "        rewards_list1.append(reward_per_trial)\n",
    "        \n",
    "# PLOT THE RESULTS\n",
    "plot_func(rewards_list1)"
   ]
  },
  {
   "cell_type": "markdown",
   "metadata": {},
   "source": [
    "# 4 Implement better & worse policies against the Random Policy"
   ]
  },
  {
   "cell_type": "code",
   "execution_count": 6,
   "metadata": {},
   "outputs": [
    {
     "data": {
      "application/json": {
       "ascii": false,
       "bar_format": null,
       "colour": null,
       "elapsed": 0.016620159149169922,
       "initial": 0,
       "n": 0,
       "ncols": null,
       "nrows": null,
       "postfix": null,
       "prefix": "Run trail",
       "rate": null,
       "total": 10,
       "unit": "it",
       "unit_divisor": 1000,
       "unit_scale": false
      },
      "application/vnd.jupyter.widget-view+json": {
       "model_id": "f92e85154d2e42ef8d37c1bffd828e04",
       "version_major": 2,
       "version_minor": 0
      },
      "text/plain": [
       "Run trail:   0%|          | 0/10 [00:00<?, ?it/s]"
      ]
     },
     "metadata": {},
     "output_type": "display_data"
    },
    {
     "data": {
      "application/json": {
       "ascii": false,
       "bar_format": null,
       "colour": null,
       "elapsed": 0.012218236923217773,
       "initial": 0,
       "n": 0,
       "ncols": null,
       "nrows": null,
       "postfix": null,
       "prefix": "Episode",
       "rate": null,
       "total": 10000,
       "unit": "it",
       "unit_divisor": 1000,
       "unit_scale": false
      },
      "application/vnd.jupyter.widget-view+json": {
       "model_id": "57ec31dc6b0944349528d5178eb2c998",
       "version_major": 2,
       "version_minor": 0
      },
      "text/plain": [
       "Episode:   0%|          | 0/10000 [00:00<?, ?it/s]"
      ]
     },
     "metadata": {},
     "output_type": "display_data"
    },
    {
     "data": {
      "application/json": {
       "ascii": false,
       "bar_format": null,
       "colour": null,
       "elapsed": 0.01096343994140625,
       "initial": 0,
       "n": 0,
       "ncols": null,
       "nrows": null,
       "postfix": null,
       "prefix": "Episode",
       "rate": null,
       "total": 10000,
       "unit": "it",
       "unit_divisor": 1000,
       "unit_scale": false
      },
      "application/vnd.jupyter.widget-view+json": {
       "model_id": "b24cd733902d4a0caf23ab0dc05af80d",
       "version_major": 2,
       "version_minor": 0
      },
      "text/plain": [
       "Episode:   0%|          | 0/10000 [00:00<?, ?it/s]"
      ]
     },
     "metadata": {},
     "output_type": "display_data"
    },
    {
     "data": {
      "application/json": {
       "ascii": false,
       "bar_format": null,
       "colour": null,
       "elapsed": 0.011977672576904297,
       "initial": 0,
       "n": 0,
       "ncols": null,
       "nrows": null,
       "postfix": null,
       "prefix": "Episode",
       "rate": null,
       "total": 10000,
       "unit": "it",
       "unit_divisor": 1000,
       "unit_scale": false
      },
      "application/vnd.jupyter.widget-view+json": {
       "model_id": "d43bd1f5d8df46df87530572e8860fd1",
       "version_major": 2,
       "version_minor": 0
      },
      "text/plain": [
       "Episode:   0%|          | 0/10000 [00:00<?, ?it/s]"
      ]
     },
     "metadata": {},
     "output_type": "display_data"
    },
    {
     "data": {
      "application/json": {
       "ascii": false,
       "bar_format": null,
       "colour": null,
       "elapsed": 0.011967658996582031,
       "initial": 0,
       "n": 0,
       "ncols": null,
       "nrows": null,
       "postfix": null,
       "prefix": "Episode",
       "rate": null,
       "total": 10000,
       "unit": "it",
       "unit_divisor": 1000,
       "unit_scale": false
      },
      "application/vnd.jupyter.widget-view+json": {
       "model_id": "41bc57f86d0845338c1dc1e47eb1cfce",
       "version_major": 2,
       "version_minor": 0
      },
      "text/plain": [
       "Episode:   0%|          | 0/10000 [00:00<?, ?it/s]"
      ]
     },
     "metadata": {},
     "output_type": "display_data"
    },
    {
     "data": {
      "application/json": {
       "ascii": false,
       "bar_format": null,
       "colour": null,
       "elapsed": 0.010951519012451172,
       "initial": 0,
       "n": 0,
       "ncols": null,
       "nrows": null,
       "postfix": null,
       "prefix": "Episode",
       "rate": null,
       "total": 10000,
       "unit": "it",
       "unit_divisor": 1000,
       "unit_scale": false
      },
      "application/vnd.jupyter.widget-view+json": {
       "model_id": "beb82e0133f14824b5f2a2d21efadbee",
       "version_major": 2,
       "version_minor": 0
      },
      "text/plain": [
       "Episode:   0%|          | 0/10000 [00:00<?, ?it/s]"
      ]
     },
     "metadata": {},
     "output_type": "display_data"
    },
    {
     "data": {
      "application/json": {
       "ascii": false,
       "bar_format": null,
       "colour": null,
       "elapsed": 0.010242700576782227,
       "initial": 0,
       "n": 0,
       "ncols": null,
       "nrows": null,
       "postfix": null,
       "prefix": "Episode",
       "rate": null,
       "total": 10000,
       "unit": "it",
       "unit_divisor": 1000,
       "unit_scale": false
      },
      "application/vnd.jupyter.widget-view+json": {
       "model_id": "bc5ee05b5d02432dad46dd628a300b29",
       "version_major": 2,
       "version_minor": 0
      },
      "text/plain": [
       "Episode:   0%|          | 0/10000 [00:00<?, ?it/s]"
      ]
     },
     "metadata": {},
     "output_type": "display_data"
    },
    {
     "data": {
      "application/json": {
       "ascii": false,
       "bar_format": null,
       "colour": null,
       "elapsed": 0.013121843338012695,
       "initial": 0,
       "n": 0,
       "ncols": null,
       "nrows": null,
       "postfix": null,
       "prefix": "Episode",
       "rate": null,
       "total": 10000,
       "unit": "it",
       "unit_divisor": 1000,
       "unit_scale": false
      },
      "application/vnd.jupyter.widget-view+json": {
       "model_id": "1f43dc43a24d4dcdac6310e75a4fb7cf",
       "version_major": 2,
       "version_minor": 0
      },
      "text/plain": [
       "Episode:   0%|          | 0/10000 [00:00<?, ?it/s]"
      ]
     },
     "metadata": {},
     "output_type": "display_data"
    },
    {
     "data": {
      "application/json": {
       "ascii": false,
       "bar_format": null,
       "colour": null,
       "elapsed": 0.011297941207885742,
       "initial": 0,
       "n": 0,
       "ncols": null,
       "nrows": null,
       "postfix": null,
       "prefix": "Episode",
       "rate": null,
       "total": 10000,
       "unit": "it",
       "unit_divisor": 1000,
       "unit_scale": false
      },
      "application/vnd.jupyter.widget-view+json": {
       "model_id": "8ad150628aa94b0f9b20baa6201241ea",
       "version_major": 2,
       "version_minor": 0
      },
      "text/plain": [
       "Episode:   0%|          | 0/10000 [00:00<?, ?it/s]"
      ]
     },
     "metadata": {},
     "output_type": "display_data"
    },
    {
     "data": {
      "application/json": {
       "ascii": false,
       "bar_format": null,
       "colour": null,
       "elapsed": 0.011970043182373047,
       "initial": 0,
       "n": 0,
       "ncols": null,
       "nrows": null,
       "postfix": null,
       "prefix": "Episode",
       "rate": null,
       "total": 10000,
       "unit": "it",
       "unit_divisor": 1000,
       "unit_scale": false
      },
      "application/vnd.jupyter.widget-view+json": {
       "model_id": "15effaad8db0463eb64763ba47a739a9",
       "version_major": 2,
       "version_minor": 0
      },
      "text/plain": [
       "Episode:   0%|          | 0/10000 [00:00<?, ?it/s]"
      ]
     },
     "metadata": {},
     "output_type": "display_data"
    },
    {
     "data": {
      "application/json": {
       "ascii": false,
       "bar_format": null,
       "colour": null,
       "elapsed": 0.011814117431640625,
       "initial": 0,
       "n": 0,
       "ncols": null,
       "nrows": null,
       "postfix": null,
       "prefix": "Episode",
       "rate": null,
       "total": 10000,
       "unit": "it",
       "unit_divisor": 1000,
       "unit_scale": false
      },
      "application/vnd.jupyter.widget-view+json": {
       "model_id": "4ecbf5baffa4421d9b1e81f5863b9e37",
       "version_major": 2,
       "version_minor": 0
      },
      "text/plain": [
       "Episode:   0%|          | 0/10000 [00:00<?, ?it/s]"
      ]
     },
     "metadata": {},
     "output_type": "display_data"
    },
    {
     "data": {
      "image/png": "[encoded data removed]",
      "text/plain": [
       "<Figure size 576x432 with 1 Axes>"
      ]
     },
     "metadata": {
      "needs_background": "light"
     },
     "output_type": "display_data"
    }
   ],
   "source": [
    "if __name__ == \"__main__\":\n",
    "    # fix the randomness for reproduction\n",
    "    random.seed(1234)\n",
    "    np.random.seed(1234)\n",
    "    \n",
    "    # create the environment\n",
    "    env = FourRooms()\n",
    "\n",
    "    # number of the trail\n",
    "    trial_num = 10   \n",
    "    # length of each trail\n",
    "    trial_length = int(1e4)\n",
    "    \n",
    "    # save the rewards for plot\n",
    "    rewards_list2 = []\n",
    "    \n",
    "    # run experiment\n",
    "    for e in tqdm.tqdm(range(trial_num), desc=\"Run trail\", position=0):\n",
    "        \n",
    "        # reset for every trail\n",
    "        reward_per_trial = []\n",
    "        reward_counter = 0\n",
    "    \n",
    "        # reset the environment \n",
    "        state, reward = env.reset()\n",
    "        \n",
    "        # run each trial\n",
    "        for t in tqdm.tqdm(range(trial_length), desc=\"Episode\", position=1, leave=False):\n",
    "            \n",
    "            \n",
    "            # CODE HERE: please implement a policy that is worse than the random policy.\n",
    "            # It should takes in the current state and output an action\n",
    "            action = np.random.choice([\"UP\", \"DOWN\", \"LEFT\", \"RIGHT\"], p = [0.1, 0.2, 0.3, 0.4])\n",
    "                       \n",
    "            # CODE HERE: please implement the code to get the next state and reward\n",
    "            next_state, reward = env.step(state, action)\n",
    "            \n",
    "            \n",
    "            \"\"\"DO NOT CHANGE BELOW\"\"\"\n",
    "            # save the reward\n",
    "            reward_counter += reward\n",
    "            reward_per_trial.append(reward_counter)\n",
    "            \n",
    "            # reset\n",
    "            if reward == 1:\n",
    "                state, reward = env.reset()\n",
    "            else:\n",
    "                state = next_state\n",
    "\n",
    "        # save the rewards\n",
    "        rewards_list2.append(reward_per_trial)\n",
    "        \n",
    "# PLOT THE RESULTS\n",
    "plot_func(rewards_list2)"
   ]
  },
  {
   "cell_type": "code",
   "execution_count": 7,
   "metadata": {},
   "outputs": [
    {
     "data": {
      "application/json": {
       "ascii": false,
       "bar_format": null,
       "colour": null,
       "elapsed": 0.012931108474731445,
       "initial": 0,
       "n": 0,
       "ncols": null,
       "nrows": null,
       "postfix": null,
       "prefix": "Run trail",
       "rate": null,
       "total": 10,
       "unit": "it",
       "unit_divisor": 1000,
       "unit_scale": false
      },
      "application/vnd.jupyter.widget-view+json": {
       "model_id": "673b97b9b27341ad91e7d8365cbc3530",
       "version_major": 2,
       "version_minor": 0
      },
      "text/plain": [
       "Run trail:   0%|          | 0/10 [00:00<?, ?it/s]"
      ]
     },
     "metadata": {},
     "output_type": "display_data"
    },
    {
     "data": {
      "application/json": {
       "ascii": false,
       "bar_format": null,
       "colour": null,
       "elapsed": 0.011595964431762695,
       "initial": 0,
       "n": 0,
       "ncols": null,
       "nrows": null,
       "postfix": null,
       "prefix": "Episode",
       "rate": null,
       "total": 10000,
       "unit": "it",
       "unit_divisor": 1000,
       "unit_scale": false
      },
      "application/vnd.jupyter.widget-view+json": {
       "model_id": "8b8619303c104fdca3f228abb7971d4a",
       "version_major": 2,
       "version_minor": 0
      },
      "text/plain": [
       "Episode:   0%|          | 0/10000 [00:00<?, ?it/s]"
      ]
     },
     "metadata": {},
     "output_type": "display_data"
    },
    {
     "data": {
      "application/json": {
       "ascii": false,
       "bar_format": null,
       "colour": null,
       "elapsed": 0.01177668571472168,
       "initial": 0,
       "n": 0,
       "ncols": null,
       "nrows": null,
       "postfix": null,
       "prefix": "Episode",
       "rate": null,
       "total": 10000,
       "unit": "it",
       "unit_divisor": 1000,
       "unit_scale": false
      },
      "application/vnd.jupyter.widget-view+json": {
       "model_id": "961a4c8f853a4e62bc3eb5f6d40a1eae",
       "version_major": 2,
       "version_minor": 0
      },
      "text/plain": [
       "Episode:   0%|          | 0/10000 [00:00<?, ?it/s]"
      ]
     },
     "metadata": {},
     "output_type": "display_data"
    },
    {
     "data": {
      "application/json": {
       "ascii": false,
       "bar_format": null,
       "colour": null,
       "elapsed": 0.011518716812133789,
       "initial": 0,
       "n": 0,
       "ncols": null,
       "nrows": null,
       "postfix": null,
       "prefix": "Episode",
       "rate": null,
       "total": 10000,
       "unit": "it",
       "unit_divisor": 1000,
       "unit_scale": false
      },
      "application/vnd.jupyter.widget-view+json": {
       "model_id": "8469d19cc25d4e649c66c583b16ac224",
       "version_major": 2,
       "version_minor": 0
      },
      "text/plain": [
       "Episode:   0%|          | 0/10000 [00:00<?, ?it/s]"
      ]
     },
     "metadata": {},
     "output_type": "display_data"
    },
    {
     "data": {
      "application/json": {
       "ascii": false,
       "bar_format": null,
       "colour": null,
       "elapsed": 0.011030912399291992,
       "initial": 0,
       "n": 0,
       "ncols": null,
       "nrows": null,
       "postfix": null,
       "prefix": "Episode",
       "rate": null,
       "total": 10000,
       "unit": "it",
       "unit_divisor": 1000,
       "unit_scale": false
      },
      "application/vnd.jupyter.widget-view+json": {
       "model_id": "274da2ad42404e54a769ca1ea8c284bb",
       "version_major": 2,
       "version_minor": 0
      },
      "text/plain": [
       "Episode:   0%|          | 0/10000 [00:00<?, ?it/s]"
      ]
     },
     "metadata": {},
     "output_type": "display_data"
    },
    {
     "data": {
      "application/json": {
       "ascii": false,
       "bar_format": null,
       "colour": null,
       "elapsed": 0.01132345199584961,
       "initial": 0,
       "n": 0,
       "ncols": null,
       "nrows": null,
       "postfix": null,
       "prefix": "Episode",
       "rate": null,
       "total": 10000,
       "unit": "it",
       "unit_divisor": 1000,
       "unit_scale": false
      },
      "application/vnd.jupyter.widget-view+json": {
       "model_id": "26b898deab6140a7895939c7d2a6654f",
       "version_major": 2,
       "version_minor": 0
      },
      "text/plain": [
       "Episode:   0%|          | 0/10000 [00:00<?, ?it/s]"
      ]
     },
     "metadata": {},
     "output_type": "display_data"
    },
    {
     "data": {
      "application/json": {
       "ascii": false,
       "bar_format": null,
       "colour": null,
       "elapsed": 0.010927915573120117,
       "initial": 0,
       "n": 0,
       "ncols": null,
       "nrows": null,
       "postfix": null,
       "prefix": "Episode",
       "rate": null,
       "total": 10000,
       "unit": "it",
       "unit_divisor": 1000,
       "unit_scale": false
      },
      "application/vnd.jupyter.widget-view+json": {
       "model_id": "e56658d9356c47e8840f264aa25e28f4",
       "version_major": 2,
       "version_minor": 0
      },
      "text/plain": [
       "Episode:   0%|          | 0/10000 [00:00<?, ?it/s]"
      ]
     },
     "metadata": {},
     "output_type": "display_data"
    },
    {
     "data": {
      "application/json": {
       "ascii": false,
       "bar_format": null,
       "colour": null,
       "elapsed": 0.012291193008422852,
       "initial": 0,
       "n": 0,
       "ncols": null,
       "nrows": null,
       "postfix": null,
       "prefix": "Episode",
       "rate": null,
       "total": 10000,
       "unit": "it",
       "unit_divisor": 1000,
       "unit_scale": false
      },
      "application/vnd.jupyter.widget-view+json": {
       "model_id": "6d3adcccea644fbd89aa84ac2999e082",
       "version_major": 2,
       "version_minor": 0
      },
      "text/plain": [
       "Episode:   0%|          | 0/10000 [00:00<?, ?it/s]"
      ]
     },
     "metadata": {},
     "output_type": "display_data"
    },
    {
     "data": {
      "application/json": {
       "ascii": false,
       "bar_format": null,
       "colour": null,
       "elapsed": 0.009966611862182617,
       "initial": 0,
       "n": 0,
       "ncols": null,
       "nrows": null,
       "postfix": null,
       "prefix": "Episode",
       "rate": null,
       "total": 10000,
       "unit": "it",
       "unit_divisor": 1000,
       "unit_scale": false
      },
      "application/vnd.jupyter.widget-view+json": {
       "model_id": "f2abe2168cb44296848f0cae825f5e27",
       "version_major": 2,
       "version_minor": 0
      },
      "text/plain": [
       "Episode:   0%|          | 0/10000 [00:00<?, ?it/s]"
      ]
     },
     "metadata": {},
     "output_type": "display_data"
    },
    {
     "data": {
      "application/json": {
       "ascii": false,
       "bar_format": null,
       "colour": null,
       "elapsed": 0.011510848999023438,
       "initial": 0,
       "n": 0,
       "ncols": null,
       "nrows": null,
       "postfix": null,
       "prefix": "Episode",
       "rate": null,
       "total": 10000,
       "unit": "it",
       "unit_divisor": 1000,
       "unit_scale": false
      },
      "application/vnd.jupyter.widget-view+json": {
       "model_id": "aa9f6e1e67644085b986605e5678d5d6",
       "version_major": 2,
       "version_minor": 0
      },
      "text/plain": [
       "Episode:   0%|          | 0/10000 [00:00<?, ?it/s]"
      ]
     },
     "metadata": {},
     "output_type": "display_data"
    },
    {
     "data": {
      "application/json": {
       "ascii": false,
       "bar_format": null,
       "colour": null,
       "elapsed": 0.009983539581298828,
       "initial": 0,
       "n": 0,
       "ncols": null,
       "nrows": null,
       "postfix": null,
       "prefix": "Episode",
       "rate": null,
       "total": 10000,
       "unit": "it",
       "unit_divisor": 1000,
       "unit_scale": false
      },
      "application/vnd.jupyter.widget-view+json": {
       "model_id": "90f4c888ffcc4543a20eaf85ffec2019",
       "version_major": 2,
       "version_minor": 0
      },
      "text/plain": [
       "Episode:   0%|          | 0/10000 [00:00<?, ?it/s]"
      ]
     },
     "metadata": {},
     "output_type": "display_data"
    },
    {
     "data": {
      "image/png": "[encoded data removed]",
      "text/plain": [
       "<Figure size 576x432 with 1 Axes>"
      ]
     },
     "metadata": {
      "needs_background": "light"
     },
     "output_type": "display_data"
    }
   ],
   "source": [
    "if __name__ == \"__main__\":\n",
    "    # fix the randomness for reproduction\n",
    "    random.seed(1234)\n",
    "    np.random.seed(1234)\n",
    "    \n",
    "    # create the environment\n",
    "    env = FourRooms()\n",
    "\n",
    "    # number of the trail (YOU CAN MODIFIED HERE WITH SMALL VALUES FOR DEBUG ONLY)\n",
    "    trial_num = 10   \n",
    "    # length of each trail (YOU CAN MODIFIED HERE WITH SMALL VALUES FOR DEBUG ONLY)\n",
    "    trial_length = int(1e4)\n",
    "    \n",
    "    # save the rewards for plot\n",
    "    rewards_list3 = []\n",
    "    \n",
    "    # run experiment\n",
    "    for e in tqdm.tqdm(range(trial_num), desc=\"Run trail\", position=0):\n",
    "        \n",
    "        # reset for every trail\n",
    "        reward_per_trial = []\n",
    "        reward_counter = 0\n",
    "    \n",
    "        # reset the environment \n",
    "        state, reward = env.reset()\n",
    "        \n",
    "        # run each trial\n",
    "        for t in tqdm.tqdm(range(trial_length), desc=\"Episode\", position=1, leave=False):\n",
    "            \n",
    "            \n",
    "            # CODE HERE: please implement a random policy to obtain an action.\n",
    "            # it should return a random action from [\"UP\", \"DOWN\", \"LEFT\", \"RIGHT\"]\n",
    "            action = np.random.choice([\"UP\", \"DOWN\", \"LEFT\", \"RIGHT\"], p = [0.5, 0.1, 0.1, 0.3])\n",
    "                       \n",
    "            # CODE HERE: please implement the code to get the next state and reward\n",
    "            # it should takes in the current state and action\n",
    "            # it should returns the next_state and reward\n",
    "            next_state, reward =  env.step(state, action)\n",
    "            \n",
    "            \n",
    "            \"\"\"DO NOT CHANGE BELOW\"\"\"\n",
    "            # save the reward\n",
    "            reward_counter += reward\n",
    "            reward_per_trial.append(reward_counter)\n",
    "            \n",
    "            # reset\n",
    "            if reward == 1:\n",
    "                state, reward = env.reset()\n",
    "            else:\n",
    "                state = next_state\n",
    "\n",
    "        # save the rewards\n",
    "        rewards_list3.append(reward_per_trial)\n",
    "        \n",
    "# PLOT THE RESULTS\n",
    "plot_func(rewards_list3)"
   ]
  },
  {
   "cell_type": "code",
   "execution_count": 8,
   "metadata": {},
   "outputs": [],
   "source": [
    "# set the figure size\n",
    "def plot_func(results = [rewards_list1,rewards_list2,rewards_list3]):\n",
    "    plt.figure(figsize=(8, 6))\n",
    "    # plot each trial\n",
    "    for i in results:\n",
    "        for re in i:\n",
    "            plt.plot(list(range(len(i[0]))), re, linestyle=\"--\", linewidth=1, alpha=0.7)\n",
    "\n",
    "    # plot mean reward\n",
    "\n",
    "    mean_reward_1 = np.array(rewards_list1).mean(axis=0).tolist()\n",
    "    mean_reward_2 = np.array(rewards_list2).mean(axis=0).tolist()\n",
    "    mean_reward_3 = np.array(rewards_list3).mean(axis=0).tolist()\n",
    "\n",
    "    plt.plot(list(range(len(i[0]))), mean_reward_1, linestyle=\"-\", linewidth=2, color = 'b', label = 'Random Policy')\n",
    "    plt.plot(list(range(len(i[0]))), mean_reward_2, linestyle=\"-\", linewidth=2, color = 'g', label = 'Worse Policy')\n",
    "    plt.plot(list(range(len(i[0]))), mean_reward_3, linestyle=\"-\", linewidth=2, color = 'r', label = 'Better Policy')    \n",
    "    plt.legend()\n",
    "    # plot the figure\n",
    "    plt.ylabel(\"Cumulative reward\")\n",
    "    plt.xlabel(\"Time step\")\n",
    "    plt.show()"
   ]
  },
  {
   "cell_type": "code",
   "execution_count": 9,
   "metadata": {},
   "outputs": [
    {
     "data": {
      "image/png": "[encoded data removed]",
      "text/plain": [
       "<Figure size 576x432 with 1 Axes>"
      ]
     },
     "metadata": {
      "needs_background": "light"
     },
     "output_type": "display_data"
    }
   ],
   "source": [
    "plot_func()"
   ]
  }
 ],
 "metadata": {
  "kernelspec": {
   "display_name": "gpu_kernel",
   "language": "python",
   "name": "gpu"
  },
  "language_info": {
   "codemirror_mode": {
    "name": "ipython",
    "version": 3
   },
   "file_extension": ".py",
   "mimetype": "text/x-python",
   "name": "python",
   "nbconvert_exporter": "python",
   "pygments_lexer": "ipython3",
   "version": "3.8.13"
  }
 },
 "nbformat": 4,
 "nbformat_minor": 4
}
