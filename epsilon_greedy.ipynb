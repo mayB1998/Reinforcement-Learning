{
 "cells": [
  {
   "cell_type": "code",
   "execution_count": 1,
   "metadata": {},
   "outputs": [
    {
     "ename": "IndentationError",
     "evalue": "expected an indented block (2148489498.py, line 7)",
     "output_type": "error",
     "traceback": [
      "\u001b[1;36m  Input \u001b[1;32mIn [1]\u001b[1;36m\u001b[0m\n\u001b[1;33m    def __init__(self, m):\u001b[0m\n\u001b[1;37m    ^\u001b[0m\n\u001b[1;31mIndentationError\u001b[0m\u001b[1;31m:\u001b[0m expected an indented block\n"
     ]
    }
   ],
   "source": [
    "# Import required libraries\n",
    "import numpy as np\n",
    "import matplotlib.pyplot as plt\n",
    "\n",
    "# Define Action class\n",
    "class Actions:\n",
    "def __init__(self, m):\n",
    " self.m = m\n",
    " self.mean = 0\n",
    " self.N = 0\n",
    "\n",
    "# Choose a random action\n",
    "def choose(self):\n",
    " return np.random.randn() + self.m\n",
    "\n",
    "# Update the action-value estimate\n",
    "def update(self, x):\n",
    " self.N += 1\n",
    " self.mean = (1 - 1.0 / self.N)*self.mean + 1.0 / self.N * x\n",
    "\n",
    "\n",
    "def run_experiment(m1, m2, m3, eps, N):\n",
    " \n",
    "actions = [Actions(m1), Actions(m2), Actions(m3)]\n",
    "\n",
    "data = np.empty(N)\n",
    " \n",
    "for i in range(N):\n",
    " # epsilon greedy\n",
    " p = np.random.random()\n",
    " if p < eps:\n",
    " j = np.random.choice(3)\n",
    " else:\n",
    " j = np.argmax([a.mean for a in actions])\n",
    " x = actions[j].choose()\n",
    " actions[j].update(x)\n",
    "\n",
    " # for the plot\n",
    " data[i] = x\n",
    "cumulative_average = np.cumsum(data) / (np.arange(N) + 1)\n",
    "\n",
    "# plot moving average ctr\n",
    "plt.plot(cumulative_average)\n",
    "plt.plot(np.ones(N)*m1)\n",
    "plt.plot(np.ones(N)*m2)\n",
    "plt.plot(np.ones(N)*m3)\n",
    "plt.xscale('log')\n",
    "plt.show()\n",
    "\n",
    "for a in actions:\n",
    " print(a.mean)\n",
    "\n",
    "return cumulative_average\n",
    "\n",
    "\n",
    "if __name__ == '__main__':\n",
    " \n",
    "c_1 = run_experiment(1.0, 2.0, 3.0, 0.1, 100000)\n",
    "c_05 = run_experiment(1.0, 2.0, 3.0, 0.05, 100000)\n",
    "c_01 = run_experiment(1.0, 2.0, 3.0, 0.01, 100000)\n"
   ]
  }
 ],
 "metadata": {
  "kernelspec": {
   "display_name": "Python 3.8.13 ('gpu')",
   "language": "python",
   "name": "python3"
  },
  "language_info": {
   "codemirror_mode": {
    "name": "ipython",
    "version": 3
   },
   "file_extension": ".py",
   "mimetype": "text/x-python",
   "name": "python",
   "nbconvert_exporter": "python",
   "pygments_lexer": "ipython3",
   "version": "3.8.13"
  },
  "orig_nbformat": 4,
  "vscode": {
   "interpreter": {
    "hash": "d238a6b5cfacb7fb333cf04dbf7a2f69420c9058deb40186b0e12c8a081e37ad"
   }
  }
 },
 "nbformat": 4,
 "nbformat_minor": 2
}
